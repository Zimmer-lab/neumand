{
 "cells": [
  {
   "cell_type": "markdown",
   "id": "dc6f0068-5222-4cdd-82bc-c2d5c0751466",
   "metadata": {},
   "source": [
    "# Converting MATLAB wbstructs to pandas dataframes\n",
    "\n",
    "Check the README.md for more information when to use this tool. This notebook simply calls the functions in the wbstruct_converter.py file. To get a better understanding of the code, please refer to the wbstruct_converter.py file. If there are unhandled errors, please open an issue on GitHub."
   ]
  },
  {
   "cell_type": "code",
   "execution_count": 9,
   "id": "4d8a2764-c12f-48c7-a1a2-e7095b44738c",
   "metadata": {},
   "outputs": [
    {
     "data": {
      "text/plain": [
       "<module 'utils.wbstruct_dicts_to_dataframes' from 'c:\\\\Users\\\\LAK\\\\Documents\\\\neumand\\\\data\\\\wbstruct_converter\\\\utils\\\\wbstruct_dicts_to_dataframes.py'>"
      ]
     },
     "execution_count": 9,
     "metadata": {},
     "output_type": "execute_result"
    }
   ],
   "source": [
    "import utils.wbstruct_to_dicts as wbstruct_dictioniaries\n",
    "import utils.wbstruct_dicts_to_dataframes as wbstruct_dataframes\n",
    "import dill\n",
    "\n",
    "\n",
    "# in case we want to reload our module\n",
    "import importlib\n",
    "importlib.reload(wbstruct_dictioniaries)\n",
    "importlib.reload(wbstruct_dataframes)"
   ]
  },
  {
   "cell_type": "markdown",
   "id": "9584c141-073b-489e-8ddb-77a69845ddd8",
   "metadata": {},
   "source": [
    "### Convert the wbstructs to python dictionaries"
   ]
  },
  {
   "cell_type": "code",
   "execution_count": 4,
   "id": "1c861f46",
   "metadata": {},
   "outputs": [],
   "source": [
    "# defining directory paths where all recordings are located, first is from Rebecca and second from Kerem Uzel\n",
    "directory_paths = [\"Y:\\\\lisc\\\\project\\\\neurobiology\\\\zimmer\\\\Rebecca\",\n",
    "                   \"Y:\\\\lisc\\\\project\\\\neurobiology\\\\zimmer\\\\Kerem_Uzel\\\\Whole_brain_imaging\\\\Cleaned_up_datasets\\\\WT\"]\n",
    "\n",
    "# defining target file name which should be wbstruct.mat since this is the file from the wba that we want to convert into a DF\n",
    "target_file = \"wbstruct.mat\"\n",
    "\n",
    "# since we usually have multiple recordings per animal we want to include only those that are relevant for our analysis\n",
    "# following is specific to Rebecca's and Kerem's Data\n",
    "include_Rebecca=[\"Ctrl\",\"used Datasets\"]\n",
    "include_Kerem=[\"Head\",\"Tail\"]\n",
    "exclude=[\"not_used\",\"not used\",\"notUsed\",\"cat-2_tdc-1_tph-1\"]\n",
    "recording_type=\"deltaFOverF_bc\"\n",
    "simple=False\n",
    "save_as='csv'"
   ]
  },
  {
   "cell_type": "code",
   "execution_count": 3,
   "id": "3c5a1a63",
   "metadata": {},
   "outputs": [
    {
     "name": "stdout",
     "output_type": "stream",
     "text": [
      "Searching for paths\n",
      "Found 56 paths\n"
     ]
    },
    {
     "name": "stderr",
     "output_type": "stream",
     "text": [
      "Loading Files: 100%|██████████| 56/56 [01:51<00:00,  1.99s/it]\n"
     ]
    }
   ],
   "source": [
    "# import and save rebecca's data\n",
    "datasets_rebecca = wbstruct_dictioniaries.get_datasets_dict(directory_paths[0],target_file,include_Rebecca,exclude,recording_type, simple) "
   ]
  },
  {
   "cell_type": "code",
   "execution_count": 47,
   "id": "6c00c9e7",
   "metadata": {},
   "outputs": [
    {
     "name": "stdout",
     "output_type": "stream",
     "text": [
      "Searching for paths\n",
      "Found 12 paths\n"
     ]
    },
    {
     "name": "stderr",
     "output_type": "stream",
     "text": [
      "Loading Files: 100%|██████████| 12/12 [31:44<00:00, 158.73s/it]\n"
     ]
    }
   ],
   "source": [
    "# import and save kerem's data\n",
    "datasets_kerem = wbstruct_dictioniaries.get_datasets_dict(directory_paths[1],target_file, include_Kerem,exclude,recording_type)"
   ]
  },
  {
   "cell_type": "markdown",
   "id": "ade514f0",
   "metadata": {},
   "source": [
    "The dictionary returned by the function is also saved as a pickle file named \"datasets.pkl\". In order to load this file, perform following command:"
   ]
  },
  {
   "cell_type": "code",
   "execution_count": 9,
   "id": "12fefe38",
   "metadata": {},
   "outputs": [],
   "source": [
    "# load kerem's dictionary\n",
    "with open('datasets.pkl' ,'rb') as f:\n",
    "    datasets_kerem = dill.load(f)"
   ]
  },
  {
   "cell_type": "markdown",
   "id": "391f6938",
   "metadata": {},
   "source": [
    "Now we can use the dictionaries as they are or convert them to pandas dataframes.\n",
    "\n",
    "### Convert dictionaries to dataframes\n",
    "For the following function **get_dataframes()** we assume that the \"ID1\" contains all IDs (non-IDed objects have the ID \"None\")."
   ]
  },
  {
   "cell_type": "code",
   "execution_count": 65,
   "id": "bb946e68",
   "metadata": {},
   "outputs": [
    {
     "name": "stdout",
     "output_type": "stream",
     "text": [
      "Dataframes stored as hdf5 files in the directory 'hdf5_files'\n"
     ]
    }
   ],
   "source": [
    "dataframes_kerem = wbstruct_dataframes.get_dataframes(datasets_kerem, recording_type, save_as_hdf5)"
   ]
  },
  {
   "cell_type": "code",
   "execution_count": 51,
   "id": "8fb5ebaf",
   "metadata": {},
   "outputs": [
    {
     "name": "stdout",
     "output_type": "stream",
     "text": [
      "Available Recordings: ['Dataset1_20190125_ZIM1428_Ctrl_w2', 'Dataset2_20180207_TKU862_Ctrl_w6', 'Dataset3_20180112_TKU761_Ctrl_w1', 'Dataset4_20170927_ZIM1428_Ctrl_w7', 'Dataset5_20181217_ZIM1428_w2', 'Dataset6_20190315_ZIM1428_1xHis_w1']\n"
     ]
    },
    {
     "data": {
      "text/html": [
       "<div>\n",
       "<style scoped>\n",
       "    .dataframe tbody tr th:only-of-type {\n",
       "        vertical-align: middle;\n",
       "    }\n",
       "\n",
       "    .dataframe tbody tr th {\n",
       "        vertical-align: top;\n",
       "    }\n",
       "\n",
       "    .dataframe thead th {\n",
       "        text-align: right;\n",
       "    }\n",
       "</style>\n",
       "<table border=\"1\" class=\"dataframe\">\n",
       "  <thead>\n",
       "    <tr style=\"text-align: right;\">\n",
       "      <th></th>\n",
       "      <th>neuron_000</th>\n",
       "      <th>neuron_001</th>\n",
       "      <th>neuron_002</th>\n",
       "      <th>neuron_003</th>\n",
       "      <th>neuron_004</th>\n",
       "      <th>neuron_005</th>\n",
       "      <th>neuron_006</th>\n",
       "      <th>neuron_007</th>\n",
       "      <th>neuron_008</th>\n",
       "      <th>neuron_009</th>\n",
       "      <th>...</th>\n",
       "      <th>DA09</th>\n",
       "      <th>VA12</th>\n",
       "      <th>neuron_146</th>\n",
       "      <th>neuron_147</th>\n",
       "      <th>VA11</th>\n",
       "      <th>VD11</th>\n",
       "      <th>AS10</th>\n",
       "      <th>DA07</th>\n",
       "      <th>DB07</th>\n",
       "      <th>VB11</th>\n",
       "    </tr>\n",
       "  </thead>\n",
       "  <tbody>\n",
       "    <tr>\n",
       "      <th>0</th>\n",
       "      <td>0.393794</td>\n",
       "      <td>0.307361</td>\n",
       "      <td>0.040831</td>\n",
       "      <td>0.039502</td>\n",
       "      <td>0.102370</td>\n",
       "      <td>0.015577</td>\n",
       "      <td>0.165189</td>\n",
       "      <td>0.009465</td>\n",
       "      <td>0.179284</td>\n",
       "      <td>0.033344</td>\n",
       "      <td>...</td>\n",
       "      <td>0.078039</td>\n",
       "      <td>0.199771</td>\n",
       "      <td>0.133681</td>\n",
       "      <td>0.013904</td>\n",
       "      <td>0.093948</td>\n",
       "      <td>0.129712</td>\n",
       "      <td>0.328577</td>\n",
       "      <td>0.211715</td>\n",
       "      <td>0.115133</td>\n",
       "      <td>0.084223</td>\n",
       "    </tr>\n",
       "    <tr>\n",
       "      <th>1</th>\n",
       "      <td>0.431958</td>\n",
       "      <td>0.338261</td>\n",
       "      <td>0.032891</td>\n",
       "      <td>0.055835</td>\n",
       "      <td>0.114245</td>\n",
       "      <td>0.016791</td>\n",
       "      <td>0.147697</td>\n",
       "      <td>0.000000</td>\n",
       "      <td>0.183983</td>\n",
       "      <td>0.043461</td>\n",
       "      <td>...</td>\n",
       "      <td>0.046031</td>\n",
       "      <td>0.198323</td>\n",
       "      <td>0.155385</td>\n",
       "      <td>0.009219</td>\n",
       "      <td>0.095156</td>\n",
       "      <td>0.116418</td>\n",
       "      <td>0.335416</td>\n",
       "      <td>0.198499</td>\n",
       "      <td>0.132506</td>\n",
       "      <td>0.065558</td>\n",
       "    </tr>\n",
       "    <tr>\n",
       "      <th>2</th>\n",
       "      <td>0.475861</td>\n",
       "      <td>0.392070</td>\n",
       "      <td>0.012653</td>\n",
       "      <td>0.058784</td>\n",
       "      <td>0.084672</td>\n",
       "      <td>0.022044</td>\n",
       "      <td>0.163992</td>\n",
       "      <td>0.006254</td>\n",
       "      <td>0.154195</td>\n",
       "      <td>0.021439</td>\n",
       "      <td>...</td>\n",
       "      <td>0.078579</td>\n",
       "      <td>0.193963</td>\n",
       "      <td>0.180774</td>\n",
       "      <td>0.020640</td>\n",
       "      <td>0.063496</td>\n",
       "      <td>0.113001</td>\n",
       "      <td>0.324969</td>\n",
       "      <td>0.226145</td>\n",
       "      <td>0.087854</td>\n",
       "      <td>0.079178</td>\n",
       "    </tr>\n",
       "    <tr>\n",
       "      <th>3</th>\n",
       "      <td>0.469389</td>\n",
       "      <td>0.382305</td>\n",
       "      <td>0.020624</td>\n",
       "      <td>0.074705</td>\n",
       "      <td>0.087241</td>\n",
       "      <td>0.000000</td>\n",
       "      <td>0.165510</td>\n",
       "      <td>0.029220</td>\n",
       "      <td>0.156195</td>\n",
       "      <td>0.022730</td>\n",
       "      <td>...</td>\n",
       "      <td>0.069116</td>\n",
       "      <td>0.188425</td>\n",
       "      <td>0.181836</td>\n",
       "      <td>0.000049</td>\n",
       "      <td>0.083021</td>\n",
       "      <td>0.111012</td>\n",
       "      <td>0.316187</td>\n",
       "      <td>0.210039</td>\n",
       "      <td>0.114409</td>\n",
       "      <td>0.071539</td>\n",
       "    </tr>\n",
       "    <tr>\n",
       "      <th>4</th>\n",
       "      <td>0.515858</td>\n",
       "      <td>0.396868</td>\n",
       "      <td>0.033309</td>\n",
       "      <td>0.054370</td>\n",
       "      <td>0.108983</td>\n",
       "      <td>0.021315</td>\n",
       "      <td>0.152534</td>\n",
       "      <td>0.028071</td>\n",
       "      <td>0.142395</td>\n",
       "      <td>0.000000</td>\n",
       "      <td>...</td>\n",
       "      <td>0.061056</td>\n",
       "      <td>0.184018</td>\n",
       "      <td>0.188677</td>\n",
       "      <td>0.027912</td>\n",
       "      <td>0.072947</td>\n",
       "      <td>0.136352</td>\n",
       "      <td>0.323424</td>\n",
       "      <td>0.216971</td>\n",
       "      <td>0.108904</td>\n",
       "      <td>0.092562</td>\n",
       "    </tr>\n",
       "  </tbody>\n",
       "</table>\n",
       "<p>5 rows × 154 columns</p>\n",
       "</div>"
      ],
      "text/plain": [
       "   neuron_000  neuron_001  neuron_002  neuron_003  neuron_004  neuron_005  \\\n",
       "0    0.393794    0.307361    0.040831    0.039502    0.102370    0.015577   \n",
       "1    0.431958    0.338261    0.032891    0.055835    0.114245    0.016791   \n",
       "2    0.475861    0.392070    0.012653    0.058784    0.084672    0.022044   \n",
       "3    0.469389    0.382305    0.020624    0.074705    0.087241    0.000000   \n",
       "4    0.515858    0.396868    0.033309    0.054370    0.108983    0.021315   \n",
       "\n",
       "   neuron_006  neuron_007  neuron_008  neuron_009  ...      DA09      VA12  \\\n",
       "0    0.165189    0.009465    0.179284    0.033344  ...  0.078039  0.199771   \n",
       "1    0.147697    0.000000    0.183983    0.043461  ...  0.046031  0.198323   \n",
       "2    0.163992    0.006254    0.154195    0.021439  ...  0.078579  0.193963   \n",
       "3    0.165510    0.029220    0.156195    0.022730  ...  0.069116  0.188425   \n",
       "4    0.152534    0.028071    0.142395    0.000000  ...  0.061056  0.184018   \n",
       "\n",
       "   neuron_146  neuron_147      VA11      VD11      AS10      DA07      DB07  \\\n",
       "0    0.133681    0.013904  0.093948  0.129712  0.328577  0.211715  0.115133   \n",
       "1    0.155385    0.009219  0.095156  0.116418  0.335416  0.198499  0.132506   \n",
       "2    0.180774    0.020640  0.063496  0.113001  0.324969  0.226145  0.087854   \n",
       "3    0.181836    0.000049  0.083021  0.111012  0.316187  0.210039  0.114409   \n",
       "4    0.188677    0.027912  0.072947  0.136352  0.323424  0.216971  0.108904   \n",
       "\n",
       "       VB11  \n",
       "0  0.084223  \n",
       "1  0.065558  \n",
       "2  0.079178  \n",
       "3  0.071539  \n",
       "4  0.092562  \n",
       "\n",
       "[5 rows x 154 columns]"
      ]
     },
     "execution_count": 51,
     "metadata": {},
     "output_type": "execute_result"
    }
   ],
   "source": [
    "print(\"Available Recordings:\",list(dataframes_kerem.keys()))\n",
    "dataframes_kerem['Dataset1_20190125_ZIM1428_Ctrl_w2'].head()"
   ]
  },
  {
   "cell_type": "markdown",
   "id": "2672e84c-42f4-4292-a1bc-28a691a24342",
   "metadata": {},
   "source": [
    "### If the IDs are in separate Excel Sheets\n",
    "In case the IDs of the neurons are stored in separate Excel Sheets. To construct the final dataframe we have to merge the collected IDs with the datasets from the dictionary."
   ]
  },
  {
   "cell_type": "code",
   "execution_count": 5,
   "id": "e22b9b23",
   "metadata": {},
   "outputs": [],
   "source": [
    "# following directory contains all the excel files that hold the information about the recordings\n",
    "directory_path_ID = \"Y:\\\\lisc\\\\project\\\\neurobiology\\\\zimmer\\\\Rebecca\\\\Analyses\"\n",
    "target_ID = \".xlsx\"\n",
    "include_ID = [\"Analyses_\"]\n",
    "exclude_ID = [\"._\",\"cat-2_tdc-1_tph-1\"]"
   ]
  },
  {
   "cell_type": "code",
   "execution_count": 6,
   "id": "18258a86",
   "metadata": {},
   "outputs": [
    {
     "name": "stdout",
     "output_type": "stream",
     "text": [
      "Searching for paths\n",
      "Found 3 paths\n"
     ]
    },
    {
     "name": "stderr",
     "output_type": "stream",
     "text": [
      "Loading Files: 100%|██████████| 3/3 [00:03<00:00,  1.21s/it]\n"
     ]
    }
   ],
   "source": [
    "dictofIDs_og = wbstruct_dictioniaries.get_IDs_dict(directory_path_ID, target_ID, include_ID, exclude_ID)"
   ]
  },
  {
   "cell_type": "code",
   "execution_count": 10,
   "id": "7525e512-ef58-42d9-b06e-cdba929c9aca",
   "metadata": {},
   "outputs": [
    {
     "name": "stdout",
     "output_type": "stream",
     "text": [
      "Dataframes stored as csv files in the directory 'csv_files'\n"
     ]
    }
   ],
   "source": [
    "dataframes_rebecca=wbstruct_dataframes.get_dataframes_from_excel(datasets_rebecca, dictofIDs_og, recording_type, save_as='csv')"
   ]
  },
  {
   "cell_type": "code",
   "execution_count": 57,
   "id": "feb62a3b",
   "metadata": {},
   "outputs": [
    {
     "name": "stdout",
     "output_type": "stream",
     "text": [
      "Available Recordings: ['20200629_w1', '20200708_w3', '20200714_w3', '20200716_w2', '20200724_w3', '20200724_w4', '20200826_w3', '20200826_w6', '20200922_w1', '20200930_w4', '20201007_w4', '20210112_w3', '20210113_w1', '20210126_w2', '20210203_w2', '20210323_w6', '20210324_w5', '20210330_w5', '20210414_w7']\n"
     ]
    },
    {
     "data": {
      "text/html": [
       "<div>\n",
       "<style scoped>\n",
       "    .dataframe tbody tr th:only-of-type {\n",
       "        vertical-align: middle;\n",
       "    }\n",
       "\n",
       "    .dataframe tbody tr th {\n",
       "        vertical-align: top;\n",
       "    }\n",
       "\n",
       "    .dataframe thead th {\n",
       "        text-align: right;\n",
       "    }\n",
       "</style>\n",
       "<table border=\"1\" class=\"dataframe\">\n",
       "  <thead>\n",
       "    <tr style=\"text-align: right;\">\n",
       "      <th></th>\n",
       "      <th>neuron_000</th>\n",
       "      <th>neuron_001</th>\n",
       "      <th>neuron_002</th>\n",
       "      <th>neuron_003</th>\n",
       "      <th>neuron_004</th>\n",
       "      <th>neuron_005</th>\n",
       "      <th>neuron_006</th>\n",
       "      <th>neuron_007</th>\n",
       "      <th>neuron_008</th>\n",
       "      <th>neuron_009</th>\n",
       "      <th>...</th>\n",
       "      <th>VA12</th>\n",
       "      <th>neuron_185</th>\n",
       "      <th>DA09</th>\n",
       "      <th>neuron_187</th>\n",
       "      <th>neuron_188</th>\n",
       "      <th>neuron_189</th>\n",
       "      <th>VA11</th>\n",
       "      <th>neuron_191</th>\n",
       "      <th>DA07</th>\n",
       "      <th>DB07</th>\n",
       "    </tr>\n",
       "  </thead>\n",
       "  <tbody>\n",
       "    <tr>\n",
       "      <th>0</th>\n",
       "      <td>0.190130</td>\n",
       "      <td>0.160321</td>\n",
       "      <td>0.219987</td>\n",
       "      <td>0.226076</td>\n",
       "      <td>0.173091</td>\n",
       "      <td>0.098439</td>\n",
       "      <td>0.216370</td>\n",
       "      <td>0.239610</td>\n",
       "      <td>0.191948</td>\n",
       "      <td>0.168094</td>\n",
       "      <td>...</td>\n",
       "      <td>0.345903</td>\n",
       "      <td>0.248828</td>\n",
       "      <td>0.468808</td>\n",
       "      <td>0.348250</td>\n",
       "      <td>0.363683</td>\n",
       "      <td>0.117297</td>\n",
       "      <td>0.258854</td>\n",
       "      <td>1.105442</td>\n",
       "      <td>0.245410</td>\n",
       "      <td>0.259243</td>\n",
       "    </tr>\n",
       "    <tr>\n",
       "      <th>1</th>\n",
       "      <td>0.165069</td>\n",
       "      <td>0.170646</td>\n",
       "      <td>0.198396</td>\n",
       "      <td>0.240675</td>\n",
       "      <td>0.132144</td>\n",
       "      <td>0.073380</td>\n",
       "      <td>0.210930</td>\n",
       "      <td>0.198651</td>\n",
       "      <td>0.167014</td>\n",
       "      <td>0.137600</td>\n",
       "      <td>...</td>\n",
       "      <td>0.292010</td>\n",
       "      <td>0.263990</td>\n",
       "      <td>0.430236</td>\n",
       "      <td>0.312688</td>\n",
       "      <td>0.325351</td>\n",
       "      <td>0.117811</td>\n",
       "      <td>0.195009</td>\n",
       "      <td>1.103618</td>\n",
       "      <td>0.285437</td>\n",
       "      <td>0.246301</td>\n",
       "    </tr>\n",
       "    <tr>\n",
       "      <th>2</th>\n",
       "      <td>0.140882</td>\n",
       "      <td>0.192148</td>\n",
       "      <td>0.224722</td>\n",
       "      <td>0.243210</td>\n",
       "      <td>0.182661</td>\n",
       "      <td>0.101228</td>\n",
       "      <td>0.226743</td>\n",
       "      <td>0.199701</td>\n",
       "      <td>0.181488</td>\n",
       "      <td>0.131127</td>\n",
       "      <td>...</td>\n",
       "      <td>0.345514</td>\n",
       "      <td>0.265548</td>\n",
       "      <td>0.463654</td>\n",
       "      <td>0.338033</td>\n",
       "      <td>0.386599</td>\n",
       "      <td>0.098495</td>\n",
       "      <td>0.196194</td>\n",
       "      <td>1.105227</td>\n",
       "      <td>0.267343</td>\n",
       "      <td>0.265042</td>\n",
       "    </tr>\n",
       "    <tr>\n",
       "      <th>3</th>\n",
       "      <td>0.130964</td>\n",
       "      <td>0.175004</td>\n",
       "      <td>0.121349</td>\n",
       "      <td>0.184547</td>\n",
       "      <td>0.121730</td>\n",
       "      <td>0.073926</td>\n",
       "      <td>0.172044</td>\n",
       "      <td>0.156691</td>\n",
       "      <td>0.126577</td>\n",
       "      <td>0.075437</td>\n",
       "      <td>...</td>\n",
       "      <td>0.265186</td>\n",
       "      <td>0.184721</td>\n",
       "      <td>0.395756</td>\n",
       "      <td>0.271826</td>\n",
       "      <td>0.326238</td>\n",
       "      <td>0.079108</td>\n",
       "      <td>0.170831</td>\n",
       "      <td>0.986962</td>\n",
       "      <td>0.232933</td>\n",
       "      <td>0.207334</td>\n",
       "    </tr>\n",
       "    <tr>\n",
       "      <th>4</th>\n",
       "      <td>0.179889</td>\n",
       "      <td>0.130667</td>\n",
       "      <td>0.173240</td>\n",
       "      <td>0.129928</td>\n",
       "      <td>0.148944</td>\n",
       "      <td>0.065578</td>\n",
       "      <td>0.167654</td>\n",
       "      <td>0.189717</td>\n",
       "      <td>0.156886</td>\n",
       "      <td>0.131135</td>\n",
       "      <td>...</td>\n",
       "      <td>0.273023</td>\n",
       "      <td>0.233412</td>\n",
       "      <td>0.398289</td>\n",
       "      <td>0.275193</td>\n",
       "      <td>0.333255</td>\n",
       "      <td>0.050726</td>\n",
       "      <td>0.165638</td>\n",
       "      <td>1.015690</td>\n",
       "      <td>0.218799</td>\n",
       "      <td>0.230359</td>\n",
       "    </tr>\n",
       "  </tbody>\n",
       "</table>\n",
       "<p>5 rows × 194 columns</p>\n",
       "</div>"
      ],
      "text/plain": [
       "   neuron_000  neuron_001  neuron_002  neuron_003  neuron_004  neuron_005  \\\n",
       "0    0.190130    0.160321    0.219987    0.226076    0.173091    0.098439   \n",
       "1    0.165069    0.170646    0.198396    0.240675    0.132144    0.073380   \n",
       "2    0.140882    0.192148    0.224722    0.243210    0.182661    0.101228   \n",
       "3    0.130964    0.175004    0.121349    0.184547    0.121730    0.073926   \n",
       "4    0.179889    0.130667    0.173240    0.129928    0.148944    0.065578   \n",
       "\n",
       "   neuron_006  neuron_007  neuron_008  neuron_009  ...      VA12  neuron_185  \\\n",
       "0    0.216370    0.239610    0.191948    0.168094  ...  0.345903    0.248828   \n",
       "1    0.210930    0.198651    0.167014    0.137600  ...  0.292010    0.263990   \n",
       "2    0.226743    0.199701    0.181488    0.131127  ...  0.345514    0.265548   \n",
       "3    0.172044    0.156691    0.126577    0.075437  ...  0.265186    0.184721   \n",
       "4    0.167654    0.189717    0.156886    0.131135  ...  0.273023    0.233412   \n",
       "\n",
       "       DA09  neuron_187  neuron_188  neuron_189      VA11  neuron_191  \\\n",
       "0  0.468808    0.348250    0.363683    0.117297  0.258854    1.105442   \n",
       "1  0.430236    0.312688    0.325351    0.117811  0.195009    1.103618   \n",
       "2  0.463654    0.338033    0.386599    0.098495  0.196194    1.105227   \n",
       "3  0.395756    0.271826    0.326238    0.079108  0.170831    0.986962   \n",
       "4  0.398289    0.275193    0.333255    0.050726  0.165638    1.015690   \n",
       "\n",
       "       DA07      DB07  \n",
       "0  0.245410  0.259243  \n",
       "1  0.285437  0.246301  \n",
       "2  0.267343  0.265042  \n",
       "3  0.232933  0.207334  \n",
       "4  0.218799  0.230359  \n",
       "\n",
       "[5 rows x 194 columns]"
      ]
     },
     "execution_count": 57,
     "metadata": {},
     "output_type": "execute_result"
    }
   ],
   "source": [
    "print(\"Available Recordings:\",list(dataframes_rebecca.keys()))\n",
    "dataframes_rebecca['20200629_w1'].head()"
   ]
  },
  {
   "cell_type": "markdown",
   "id": "5e38c367",
   "metadata": {},
   "source": []
  }
 ],
 "metadata": {
  "kernelspec": {
   "display_name": "Python 3.10.6 64-bit",
   "language": "python",
   "name": "python3"
  },
  "language_info": {
   "codemirror_mode": {
    "name": "ipython",
    "version": 3
   },
   "file_extension": ".py",
   "mimetype": "text/x-python",
   "name": "python",
   "nbconvert_exporter": "python",
   "pygments_lexer": "ipython3",
   "version": "3.10.6"
  },
  "vscode": {
   "interpreter": {
    "hash": "e6b8062c8d873bf17e80439cf9ee27761532659cc2634ffd2b6294fa54795af1"
   }
  }
 },
 "nbformat": 4,
 "nbformat_minor": 5
}
