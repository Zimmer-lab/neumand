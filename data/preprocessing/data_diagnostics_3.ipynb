{
 "cells": [
  {
   "cell_type": "markdown",
   "metadata": {},
   "source": [
    "### Data Diagnostics: Time Delay Embedding"
   ]
  },
  {
   "cell_type": "code",
   "execution_count": null,
   "metadata": {},
   "outputs": [],
   "source": [
    "import pandas as pd\n",
    "import numpy as np\n",
    "from gtda.time_series import TakensEmbedding\n",
    "from sklearn.decomposition import PCA\n",
    "import helper_functions as hf\n"
   ]
  },
  {
   "cell_type": "code",
   "execution_count": null,
   "metadata": {},
   "outputs": [],
   "source": [
    "dataframe = pd.read_hdf('quartiled_data_0602.h5')\n",
    "dataframe.head()"
   ]
  },
  {
   "cell_type": "code",
   "execution_count": null,
   "metadata": {},
   "outputs": [],
   "source": [
    "TE = TakensEmbedding(time_delay=1, dimension=10, flatten=True)\n",
    "transformed_data = TE.fit_transform(dataframe.loc[:,~dataframe.columns.isin(['state','dataset'])].T)"
   ]
  },
  {
   "cell_type": "code",
   "execution_count": null,
   "metadata": {},
   "outputs": [],
   "source": [
    "time_embedded = pd.DataFrame(np.concatenate((transformed_data),axis=1))"
   ]
  },
  {
   "cell_type": "code",
   "execution_count": null,
   "metadata": {},
   "outputs": [],
   "source": [
    "pca = PCA(n_components=3)\n",
    "pca_data = pca.fit_transform(time_embedded)\n",
    "data = pd.DataFrame(pca_data)\n",
    "data['state'] = dataframe['state']"
   ]
  },
  {
   "cell_type": "code",
   "execution_count": null,
   "metadata": {},
   "outputs": [],
   "source": [
    "hf.plot_PCs(data, data['state'], 'PCA of Time Embedded Data')"
   ]
  },
  {
   "cell_type": "code",
   "execution_count": null,
   "metadata": {},
   "outputs": [],
   "source": [
    "hf.plot_PC_gif(data, data['state'], 'PCA_Time_Embedded.gif')"
   ]
  },
  {
   "cell_type": "code",
   "execution_count": null,
   "metadata": {},
   "outputs": [],
   "source": [
    "pca_raw = PCA(n_components=3)\n",
    "pca_data_raw = pca_raw.fit_transform(dataframe.loc[:,~dataframe.columns.isin(['state','dataset'])])\n",
    "data_raw = pd.DataFrame(pca_data_raw)\n",
    "data_raw['state'] = dataframe['state']"
   ]
  },
  {
   "cell_type": "code",
   "execution_count": null,
   "metadata": {},
   "outputs": [],
   "source": [
    "hf.plot_PCs(data_raw, data_raw['state'], 'PCA of Time Embedded Data')"
   ]
  }
 ],
 "metadata": {
  "kernelspec": {
   "display_name": "Python 3",
   "language": "python",
   "name": "python3"
  },
  "language_info": {
   "codemirror_mode": {
    "name": "ipython",
    "version": 3
   },
   "file_extension": ".py",
   "mimetype": "text/x-python",
   "name": "python",
   "nbconvert_exporter": "python",
   "pygments_lexer": "ipython3",
   "version": "0.0.0"
  }
 },
 "nbformat": 4,
 "nbformat_minor": 2
}
