{
 "cells": [
  {
   "cell_type": "markdown",
   "metadata": {},
   "source": [
    "### Data Diagnostics: Time Delay Embedding"
   ]
  },
  {
   "cell_type": "code",
   "execution_count": null,
   "metadata": {},
   "outputs": [],
   "source": [
    "import pandas as pd\n",
    "import numpy as np\n",
    "from gtda.time_series import TakensEmbedding\n",
    "from sklearn.decomposition import PCA\n",
    "import helper_functions as hf\n"
   ]
  },
  {
   "cell_type": "code",
   "execution_count": null,
   "metadata": {},
   "outputs": [],
   "source": [
    "dataframe = pd.read_hdf('quartiled_data_0602.h5')"
   ]
  },
  {
   "cell_type": "code",
   "execution_count": null,
   "metadata": {},
   "outputs": [],
   "source": [
    "TE = TakensEmbedding(time_delay=1, dimension=10, flatten=True)\n",
    "transformed_data = TE.fit_transform(dataframe.loc[:,~dataframe.columns.isin(['state','dataset'])].T)\n",
    "time_embedded = pd.DataFrame(np.concatenate((transformed_data),axis=1))"
   ]
  },
  {
   "cell_type": "code",
   "execution_count": null,
   "metadata": {},
   "outputs": [],
   "source": [
    "pca = PCA(n_components=3)\n",
    "pca_data = pca.fit_transform(time_embedded)\n",
    "data = pd.DataFrame(pca_data)\n",
    "data['state'] = dataframe['state']"
   ]
  },
  {
   "cell_type": "code",
   "execution_count": null,
   "metadata": {},
   "outputs": [],
   "source": [
    "time_embedded['dataset'] = dataframe['dataset']\n",
    "time_embedded['state'] = dataframe['state']"
   ]
  },
  {
   "cell_type": "code",
   "execution_count": null,
   "metadata": {},
   "outputs": [],
   "source": [
    "\n",
    "time_embedded.to_hdf('time_embedded_2103.h5', key='df')"
   ]
  },
  {
   "cell_type": "code",
   "execution_count": null,
   "metadata": {},
   "outputs": [],
   "source": [
    "hf.plot_PCs(data, 'PCA of Time Embedded Data', pca.explained_variance_ratio_*100)"
   ]
  },
  {
   "cell_type": "code",
   "execution_count": null,
   "metadata": {},
   "outputs": [],
   "source": [
    "# Control for time delay embedding\n",
    "pca_raw = PCA(n_components=3)\n",
    "pca_data_raw = pca_raw.fit_transform(dataframe.loc[:,~dataframe.columns.isin(['state','dataset'])])\n",
    "data_raw = pd.DataFrame(pca_data_raw)\n",
    "data_raw['state'] = dataframe['state']\n",
    "hf.plot_PCs(data_raw, 'PCA of Time Embedded Data', pca_raw.explained_variance_ratio_*100)"
   ]
  }
 ],
 "metadata": {
  "kernelspec": {
   "display_name": "Python 3",
   "language": "python",
   "name": "python3"
  },
  "language_info": {
   "codemirror_mode": {
    "name": "ipython",
    "version": 3
   },
   "file_extension": ".py",
   "mimetype": "text/x-python",
   "name": "python",
   "nbconvert_exporter": "python",
   "pygments_lexer": "ipython3",
   "version": "3.10.12"
  }
 },
 "nbformat": 4,
 "nbformat_minor": 2
}
