{
 "cells": [
  {
   "cell_type": "markdown",
   "metadata": {},
   "source": [
    "### Single dataset Analysis\n",
    "We will explore each dataset separately, for this we take resampled (to 3529 time points), truncated (to 3329 time points), normalized (with a quantile range of [0.1,0.9] and [0.05,0.95]) and smoothed with total variation derivatives (with the params Iteration)"
   ]
  },
  {
   "cell_type": "code",
   "execution_count": null,
   "metadata": {},
   "outputs": [],
   "source": [
    "import helper_functions as hf\n",
    "import pandas as pd\n",
    "import plotly.express as px\n",
    "\n",
    "quartiled_dataframe = pd.read_hdf(\"quartiled_data_0602.h5\")\n",
    "turn_vec = quartiled_dataframe[\"state\"]"
   ]
  },
  {
   "cell_type": "code",
   "execution_count": null,
   "metadata": {},
   "outputs": [],
   "source": [
    "for column in quartiled_dataframe.columns:\n",
    "    col = pd.DataFrame(quartiled_dataframe[column])\n",
    "    if column == 'PVR':\n",
    "        fig = px.scatter(col, x=col.index, y=column, color=turn_vec, title=column,marginal_y='histogram').show()\n",
    "        \n",
    "quartiled_dataframe['state'] = turn_vec.values\n",
    "px.scatter_3d(quartiled_dataframe, x='AVAR', y='SMDVR', z='SMDDR',color='state').show()"
   ]
  },
  {
   "cell_type": "markdown",
   "metadata": {},
   "source": [
    "### Apply and plot PCs per dataset"
   ]
  },
  {
   "cell_type": "code",
   "execution_count": null,
   "metadata": {},
   "outputs": [],
   "source": [
    "# apply PCA and do smoothing per recording and store each in a dictionary \n",
    "temporal_PCs = quartiled_dataframe.groupby('dataset').apply(hf.apply_PCA_with_smoothing).reset_index(drop=True)\n",
    "temporal_PCs[[\"dataset\",\"state\"]] = quartiled_dataframe[[\"dataset\", \"state\"]]\n",
    "datasets = {dataset: df for dataset, df in temporal_PCs.groupby(\"dataset\")}"
   ]
  },
  {
   "cell_type": "code",
   "execution_count": null,
   "metadata": {},
   "outputs": [],
   "source": [
    "hf.plot_PCs_iteratively(datasets).run_server(debug=True, port=8053)"
   ]
  },
  {
   "cell_type": "code",
   "execution_count": null,
   "metadata": {},
   "outputs": [],
   "source": [
    "hf.plot_PCs_separately(datasets).run_server(debug=True, port=8051)"
   ]
  }
 ],
 "metadata": {
  "kernelspec": {
   "display_name": "Python 3",
   "language": "python",
   "name": "python3"
  },
  "language_info": {
   "codemirror_mode": {
    "name": "ipython",
    "version": 3
   },
   "file_extension": ".py",
   "mimetype": "text/x-python",
   "name": "python",
   "nbconvert_exporter": "python",
   "pygments_lexer": "ipython3",
   "version": "3.10.6"
  }
 },
 "nbformat": 4,
 "nbformat_minor": 2
}
