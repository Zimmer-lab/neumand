{
 "cells": [
  {
   "cell_type": "markdown",
   "metadata": {},
   "source": [
    "### Single dataset Analysis\n",
    "We will explore each dataset separately, for this we take resampled (to 3529 time points), truncated (to 3329 time points), normalized (with a quantile range of [0.1,0.9] and [0.05,0.95]) and smoothed with total variation derivatives (with the params Iteration)"
   ]
  },
  {
   "cell_type": "code",
   "execution_count": null,
   "metadata": {},
   "outputs": [],
   "source": [
    "import helper_functions as hf\n",
    "import numpy as np\n",
    "import matplotlib.pyplot as plt\n",
    "import seaborn as sns\n",
    "import pandas as pd\n",
    "from collections import defaultdict\n",
    "import importlib\n",
    "\n",
    "smooth_dataframe = pd.read_pickle(\"resampled_derivatives_595_It5_Gam001.pkl\")\n",
    "dataframes = hf.wbstruct_dataframes.loading_pkl('dataframes.pkl')\n",
    "turn_vec = pd.read_pickle('turn_vec_truncated.pkl')"
   ]
  },
  {
   "cell_type": "code",
   "execution_count": null,
   "metadata": {},
   "outputs": [],
   "source": [
    "length_dict = defaultdict()\n",
    "frames_num = 3329\n",
    "for key, value in dataframes.items():\n",
    "    length_dict[key] = frames_num"
   ]
  },
  {
   "cell_type": "code",
   "execution_count": null,
   "metadata": {},
   "outputs": [],
   "source": [
    "smooth_dataframe_cumsum = smooth_dataframe.copy()\n",
    "\n",
    "hf.compute_cumsum(smooth_dataframe_cumsum, length_dict)"
   ]
  },
  {
   "cell_type": "code",
   "execution_count": null,
   "metadata": {},
   "outputs": [],
   "source": [
    "pca = hf.PCA(n_components=3)\n",
    "temporal_PCs_totalvariation = pd.DataFrame(pca.fit_transform(smooth_dataframe_cumsum))\n",
    "window_size = 10\n",
    "\n",
    "# Applying a 10-sample sliding average for smoother visualizations!\n",
    "for obs_count in range(3):\n",
    "    temporal_PCs_totalvariation[obs_count] = np.convolve(temporal_PCs_totalvariation[obs_count], np.ones(window_size)/window_size, mode='same')\n",
    "\n",
    "temporal_PCs_totalvariation['state'] = turn_vec.values\n",
    "hf.plot_PCs(temporal_PCs_totalvariation,temporal_PCs_totalvariation['state'],'PCA_derivatives_totalvariation_OLD.html')"
   ]
  },
  {
   "cell_type": "code",
   "execution_count": null,
   "metadata": {},
   "outputs": [],
   "source": [
    "# all data points\n",
    "\n",
    "\n",
    "start_index = 0\n",
    "pca = hf.PCA(n_components=3)\n",
    "for key,obs_count in length_dict.items():\n",
    "    end_index = start_index + obs_count\n",
    "    if key == 'Dataset2_20180207_TKU862_Ctrl_w6':\n",
    "        pca.fit(smooth_dataframe_cumsum[start_index:end_index])\n",
    "        break\n",
    "    start_index = end_index\n",
    "    \n",
    "start_index = 0    \n",
    "for key,obs_count in length_dict.items():  \n",
    "    end_index = start_index + obs_count\n",
    "    temporal_PCs_totalvariation = pd.DataFrame(pca.transform(smooth_dataframe_cumsum[start_index:end_index]))\n",
    "    window_size = 10\n",
    "    # Applying a 10-sample sliding average for smoother visualizations!\n",
    "    for obs_count in range(3):\n",
    "        temporal_PCs_totalvariation[obs_count] = np.convolve(temporal_PCs_totalvariation[obs_count], np.ones(window_size)/window_size, mode='same')\n",
    "\n",
    "    temporal_PCs_totalvariation['state'] = turn_vec[start_index:end_index].values\n",
    "    hf.plot_PCs(temporal_PCs_totalvariation,temporal_PCs_totalvariation['state'],key+'.html')\n",
    "    start_index = end_index"
   ]
  },
  {
   "cell_type": "code",
   "execution_count": null,
   "metadata": {},
   "outputs": [],
   "source": [
    "# first 1000\n",
    "start_index = 0\n",
    "datasets = defaultdict()\n",
    "pca = hf.PCA(n_components=3)\n",
    "for key,obs_count in length_dict.items():\n",
    "    end_index = start_index + 1000\n",
    "    if key == 'Dataset2_20180207_TKU862_Ctrl_w6':\n",
    "        pca.fit(smooth_dataframe_cumsum[start_index:end_index])\n",
    "        break\n",
    "    start_index = start_index + obs_count\n",
    "    \n",
    "start_index = 0    \n",
    "for key,obs_count in length_dict.items():  \n",
    "    end_index = start_index + 1000\n",
    "    temporal_PCs_totalvariation = pd.DataFrame(pca.transform(smooth_dataframe_cumsum[start_index:end_index]))\n",
    "    window_size = 10\n",
    "    # Applying a 10-sample sliding average for smoother visualizations!\n",
    "    for i in range(3):\n",
    "        temporal_PCs_totalvariation[i] = np.convolve(temporal_PCs_totalvariation[i], np.ones(window_size)/window_size, mode='same')\n",
    "\n",
    "    temporal_PCs_totalvariation['state'] = turn_vec[start_index:end_index].values\n",
    "    datasets[key] = temporal_PCs_totalvariation\n",
    "    hf.plot_PCs(temporal_PCs_totalvariation,temporal_PCs_totalvariation['state'],'single_first1000/'+key+'.html')\n",
    "    start_index = start_index + obs_count\n",
    "    "
   ]
  },
  {
   "cell_type": "code",
   "execution_count": null,
   "metadata": {},
   "outputs": [],
   "source": [
    "hf.plot_PCs_iteratively(datasets).run_server(debug=True)"
   ]
  },
  {
   "cell_type": "code",
   "execution_count": null,
   "metadata": {},
   "outputs": [],
   "source": [
    "hf.plot_PCs_separately(datasets).run_server(debug=True)"
   ]
  }
 ],
 "metadata": {
  "kernelspec": {
   "display_name": "Python 3",
   "language": "python",
   "name": "python3"
  },
  "language_info": {
   "codemirror_mode": {
    "name": "ipython",
    "version": 3
   },
   "file_extension": ".py",
   "mimetype": "text/x-python",
   "name": "python",
   "nbconvert_exporter": "python",
   "pygments_lexer": "ipython3",
   "version": "3.10.6"
  }
 },
 "nbformat": 4,
 "nbformat_minor": 2
}
