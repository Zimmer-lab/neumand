{
 "cells": [
  {
   "cell_type": "markdown",
   "metadata": {},
   "source": [
    "# <b>Data Preprocessing </b> *✲ﾟ*｡✧٩(･ิᴗ･ิ๑)۶*✲ﾟ*｡✧\n",
    "\n",
    "In data_diagnostics we have done some analysis to understand not only the data but also the low dimensinal representations we have seen in exploration_visualization. We have discovered following:\n",
    "\n",
    "- **Multivariate Non-Normality** <br>\n",
    "Our data does not follow multivariate normality, i. e. none of the variables are normally distributed. After a Box-Cox transformation to do further analysis we observed normality for many variables, but not all of them. This could be quite problematic for future analysis we make as many of them are based on the assumption of normality. We will have to keep this in mind and look for other techniques of normality and maybe transform the non-normal variables in a different way. \n",
    "\n",
    "- **Outliers** <br>\n",
    "bla\n"
   ]
  },
  {
   "cell_type": "markdown",
   "metadata": {},
   "source": []
  }
 ],
 "metadata": {
  "language_info": {
   "name": "python"
  }
 },
 "nbformat": 4,
 "nbformat_minor": 2
}
